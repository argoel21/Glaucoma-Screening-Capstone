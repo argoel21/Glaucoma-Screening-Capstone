{
 "cells": [
  {
   "cell_type": "code",
   "execution_count": 1,
   "metadata": {},
   "outputs": [],
   "source": [
    "import os\n",
    "import numpy as np\n",
    "import matplotlib.pyplot as plt\n",
    "import torch\n",
    "from PIL import Image\n",
    "import torchvision.transforms as transforms\n",
    "from sklearn.model_selection import train_test_split\n",
    "from torch.utils.data import DataLoader\n",
    "from torch.optim import Adam\n",
    "import pandas as pd\n",
    "\n",
    "from GlaucomaDataset import GlaucomaDataset\n",
    "from unet import UNet"
   ]
  },
  {
   "cell_type": "code",
   "execution_count": 2,
   "metadata": {},
   "outputs": [],
   "source": [
    "origa_path = os.path.join(\"..\", '..', \"data\", \"ORIGA\")\n",
    "images_path = os.path.join(origa_path, \"Images_Square\")\n",
    "masks_path = os.path.join(origa_path, \"Masks_Square\")\n",
    "\n",
    "img_filenames = sorted(os.listdir(images_path))\n",
    "mask_filenames = sorted(os.listdir(masks_path))"
   ]
  },
  {
   "cell_type": "code",
   "execution_count": 3,
   "metadata": {},
   "outputs": [],
   "source": [
    "def update_image_path(path):\n",
    "    split_path = path.split(\"/\")\n",
    "    return f'../../data/ORIGA/{split_path[-2]}/{split_path[-1]}'"
   ]
  },
  {
   "cell_type": "code",
   "execution_count": 4,
   "metadata": {},
   "outputs": [],
   "source": [
    "bb_df = pd.read_csv(\"../../data/ORIGA/bounding_boxes.csv\")\n",
    "bb_df['image_path'] = bb_df['image_path'].apply(update_image_path)"
   ]
  },
  {
   "cell_type": "code",
   "execution_count": 5,
   "metadata": {},
   "outputs": [],
   "source": [
    "# Split into train, validation, and test sets (70, 15, 15)\n",
    "train_imgs, temp_imgs, train_masks, temp_masks = train_test_split(\n",
    "    img_filenames, mask_filenames, test_size=0.3, random_state=42)\n",
    "\n",
    "val_imgs, test_imgs, val_masks, test_masks = train_test_split(\n",
    "    temp_imgs, temp_masks, test_size=0.5, random_state=42)"
   ]
  },
  {
   "cell_type": "code",
   "execution_count": 7,
   "metadata": {},
   "outputs": [
    {
     "ename": "AttributeError",
     "evalue": "'NoneType' object has no attribute 'iterrows'",
     "output_type": "error",
     "traceback": [
      "\u001b[0;31m---------------------------------------------------------------------------\u001b[0m",
      "\u001b[0;31mAttributeError\u001b[0m                            Traceback (most recent call last)",
      "Cell \u001b[0;32mIn[7], line 7\u001b[0m\n\u001b[1;32m      5\u001b[0m train_set \u001b[38;5;241m=\u001b[39m GlaucomaDataset(images_path, masks_path, train_imgs, train_masks, bb_df)\n\u001b[1;32m      6\u001b[0m val_set \u001b[38;5;241m=\u001b[39m GlaucomaDataset(images_path, masks_path, val_imgs, val_masks, bb_df)\n\u001b[0;32m----> 7\u001b[0m test_set \u001b[38;5;241m=\u001b[39m \u001b[43mGlaucomaDataset\u001b[49m\u001b[43m(\u001b[49m\u001b[43mimages_path\u001b[49m\u001b[43m,\u001b[49m\u001b[43m \u001b[49m\u001b[43mmasks_path\u001b[49m\u001b[43m,\u001b[49m\u001b[43m \u001b[49m\u001b[43mtest_imgs\u001b[49m\u001b[43m,\u001b[49m\u001b[43m \u001b[49m\u001b[43mtest_masks\u001b[49m\u001b[43m)\u001b[49m\n\u001b[1;32m      9\u001b[0m train_loader \u001b[38;5;241m=\u001b[39m DataLoader(train_set, batch_size\u001b[38;5;241m=\u001b[39mbatch_size, num_workers\u001b[38;5;241m=\u001b[39mn_workers, shuffle\u001b[38;5;241m=\u001b[39m\u001b[38;5;28;01mTrue\u001b[39;00m)\n\u001b[1;32m     10\u001b[0m val_loader \u001b[38;5;241m=\u001b[39m DataLoader(val_set, batch_size\u001b[38;5;241m=\u001b[39mbatch_size, num_workers\u001b[38;5;241m=\u001b[39mn_workers, shuffle\u001b[38;5;241m=\u001b[39m\u001b[38;5;28;01mTrue\u001b[39;00m)\n",
      "File \u001b[0;32m/sfs/gpfs/tardis/home/skk8kc/Documents/Capstone/Glaucoma-Screening-Capstone/unet/GlaucomaDataset.py:23\u001b[0m, in \u001b[0;36mGlaucomaDataset.__init__\u001b[0;34m(self, images_path, masks_path, img_filenames, mask_filenames, bbox_df)\u001b[0m\n\u001b[1;32m     20\u001b[0m \u001b[38;5;28mself\u001b[39m\u001b[38;5;241m.\u001b[39mbbox_data \u001b[38;5;241m=\u001b[39m bbox_df\n\u001b[1;32m     22\u001b[0m \u001b[38;5;66;03m# Store bounding boxes in a dictionary for quick lookup\u001b[39;00m\n\u001b[0;32m---> 23\u001b[0m \u001b[38;5;28;01mfor\u001b[39;00m _, row \u001b[38;5;129;01min\u001b[39;00m \u001b[38;5;28;43mself\u001b[39;49m\u001b[38;5;241;43m.\u001b[39;49m\u001b[43mbbox_data\u001b[49m\u001b[38;5;241;43m.\u001b[39;49m\u001b[43miterrows\u001b[49m():\n\u001b[1;32m     24\u001b[0m     \u001b[38;5;28mself\u001b[39m\u001b[38;5;241m.\u001b[39mbboxes[row[\u001b[38;5;124m'\u001b[39m\u001b[38;5;124mimage_path\u001b[39m\u001b[38;5;124m'\u001b[39m]] \u001b[38;5;241m=\u001b[39m [row[\u001b[38;5;124m'\u001b[39m\u001b[38;5;124mx1\u001b[39m\u001b[38;5;124m'\u001b[39m], row[\u001b[38;5;124m'\u001b[39m\u001b[38;5;124my1\u001b[39m\u001b[38;5;124m'\u001b[39m], row[\u001b[38;5;124m'\u001b[39m\u001b[38;5;124mx2\u001b[39m\u001b[38;5;124m'\u001b[39m], row[\u001b[38;5;124m'\u001b[39m\u001b[38;5;124my2\u001b[39m\u001b[38;5;124m'\u001b[39m]]\n\u001b[1;32m     26\u001b[0m \u001b[38;5;66;03m# Pre-processing images: convert to RGB array, convert to tensor, resize\u001b[39;00m\n",
      "\u001b[0;31mAttributeError\u001b[0m: 'NoneType' object has no attribute 'iterrows'"
     ]
    }
   ],
   "source": [
    "# Load data\n",
    "batch_size = 8\n",
    "n_workers = 4\n",
    "\n",
    "train_set = GlaucomaDataset(images_path, masks_path, train_imgs, train_masks, bb_df)\n",
    "val_set = GlaucomaDataset(images_path, masks_path, val_imgs, val_masks, bb_df)\n",
    "test_set = GlaucomaDataset(images_path, masks_path, test_imgs, test_masks, bb_df)\n",
    "\n",
    "train_loader = DataLoader(train_set, batch_size=batch_size, num_workers=n_workers, shuffle=True)\n",
    "val_loader = DataLoader(val_set, batch_size=batch_size, num_workers=n_workers, shuffle=True)\n",
    "test_loader = DataLoader(test_set, batch_size=batch_size, num_workers=n_workers, shuffle=True)"
   ]
  }
 ],
 "metadata": {
  "kernelspec": {
   "display_name": "capstone",
   "language": "python",
   "name": "python3"
  },
  "language_info": {
   "codemirror_mode": {
    "name": "ipython",
    "version": 3
   },
   "file_extension": ".py",
   "mimetype": "text/x-python",
   "name": "python",
   "nbconvert_exporter": "python",
   "pygments_lexer": "ipython3",
   "version": "3.11.6"
  }
 },
 "nbformat": 4,
 "nbformat_minor": 2
}
