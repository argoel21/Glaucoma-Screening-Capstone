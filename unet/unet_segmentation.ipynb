{
 "cells": [
  {
   "cell_type": "markdown",
   "metadata": {},
   "source": [
    "# UNet Segmentation of Optic Disc and Optic Cup"
   ]
  },
  {
   "cell_type": "code",
   "execution_count": 38,
   "metadata": {},
   "outputs": [],
   "source": [
    "import os\n",
    "import numpy as np\n",
    "import torch\n",
    "from PIL import Image\n",
    "import torchvision.transforms as transforms\n",
    "from sklearn.model_selection import train_test_split"
   ]
  },
  {
   "cell_type": "code",
   "execution_count": 6,
   "metadata": {},
   "outputs": [],
   "source": [
    "origa_path = os.path.join(\"..\", \"data\", \"ORIGA\")\n",
    "images_path = os.path.join(origa_path, \"Images_Square\")\n",
    "masks_path = os.path.join(origa_path, \"Masks_Square\")"
   ]
  },
  {
   "cell_type": "code",
   "execution_count": 41,
   "metadata": {},
   "outputs": [],
   "source": [
    "# Pre-process fundus images: convert to RGB array, convert to tensors, resize using bilinear interpolation\n",
    "img_filenames = sorted(os.listdir(images_path))\n",
    "images = []\n",
    "\n",
    "for img in img_filenames:\n",
    "    img_name = os.path.join(images_path, img)\n",
    "    img = np.array(Image.open(img_name).convert('RGB'))\n",
    "    img = transforms.functional.to_tensor(img)\n",
    "    img = transforms.functional.resize(img, size=(256,256), interpolation=Image.BILINEAR)\n",
    "    images.append(img)\n"
   ]
  },
  {
   "cell_type": "code",
   "execution_count": 42,
   "metadata": {},
   "outputs": [],
   "source": [
    "# Pre-process mask images: convert to array, create binary masks, convert to tensors, and resize using nearest neighbor\n",
    "mask_filenames = sorted(os.listdir(masks_path))\n",
    "masks = []\n",
    "\n",
    "for mask in mask_filenames:\n",
    "    mask_name = os.path.join(masks_path, mask)\n",
    "    mask = np.array(Image.open(mask_name, mode='r'))\n",
    "\n",
    "    # Create binary masks for optic disc and optic cup classes\n",
    "    od = (mask==1.).astype(np.float32)\n",
    "    oc = (mask==2.).astype(np.float32)\n",
    "\n",
    "    # Convert to tensor and add batch dimension\n",
    "    od = torch.from_numpy(od[None,:,:]) # (1, Height, Width)\n",
    "    oc = torch.from_numpy(oc[None,:,:])\n",
    "\n",
    "    # Resize using nearest neighbor interpolation\n",
    "    od = transforms.functional.resize(od, size=(256,256), interpolation=Image.NEAREST)\n",
    "    oc = transforms.functional.resize(oc, size=(256,256), interpolation=Image.NEAREST)\n",
    "    masks.append(torch.cat([od, oc], dim=0))"
   ]
  },
  {
   "cell_type": "code",
   "execution_count": 43,
   "metadata": {},
   "outputs": [],
   "source": [
    "# Split into train, validation, and test sets (70, 15, 15)\n",
    "train_imgs, temp_imgs, train_masks, temp_masks = train_test_split(\n",
    "    images, masks, test_size=0.3, random_state=42)\n",
    "val_imgs, test_imgs, val_masks, test_masks = train_test_split(\n",
    "    temp_imgs, temp_masks, test_size=0.5, random_state=42\n",
    ")"
   ]
  },
  {
   "cell_type": "code",
   "execution_count": 9,
   "metadata": {},
   "outputs": [],
   "source": [
    "# TODO: Set parameters (learning rate, batch size, epochs, etc.)"
   ]
  },
  {
   "cell_type": "code",
   "execution_count": 10,
   "metadata": {},
   "outputs": [],
   "source": [
    "# TODO: Load data (with DataLoader?) and initialize model (device, model, loss, optimizer)"
   ]
  },
  {
   "cell_type": "code",
   "execution_count": 11,
   "metadata": {},
   "outputs": [],
   "source": [
    "# TODO: Train model "
   ]
  },
  {
   "cell_type": "code",
   "execution_count": null,
   "metadata": {},
   "outputs": [],
   "source": [
    "# To consider: adding grayscale / normalization (either for images or batches), adding a remove nerves function"
   ]
  }
 ],
 "metadata": {
  "kernelspec": {
   "display_name": "base",
   "language": "python",
   "name": "python3"
  },
  "language_info": {
   "codemirror_mode": {
    "name": "ipython",
    "version": 3
   },
   "file_extension": ".py",
   "mimetype": "text/x-python",
   "name": "python",
   "nbconvert_exporter": "python",
   "pygments_lexer": "ipython3",
   "version": "3.11.7"
  }
 },
 "nbformat": 4,
 "nbformat_minor": 2
}
