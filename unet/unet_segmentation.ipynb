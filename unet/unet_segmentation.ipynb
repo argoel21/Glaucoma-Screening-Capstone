{
 "cells": [
  {
   "cell_type": "markdown",
   "metadata": {},
   "source": [
    "# UNet Segmentation of Optic Disc and Optic Cup"
   ]
  },
  {
   "cell_type": "code",
   "execution_count": 2,
   "metadata": {},
   "outputs": [],
   "source": [
    "import os\n",
    "import numpy as np\n",
    "import torch\n",
    "from PIL import Image\n",
    "import torchvision.transforms as transforms\n",
    "from sklearn.model_selection import train_test_split\n",
    "from torch.utils.data import DataLoader\n",
    "from torch.optim import Adam\n",
    "\n",
    "from GlaucomaDataset import GlaucomaDataset\n",
    "from unet import UNet"
   ]
  },
  {
   "cell_type": "code",
   "execution_count": 3,
   "metadata": {},
   "outputs": [],
   "source": [
    "origa_path = os.path.join(\"..\", \"data\", \"ORIGA\")\n",
    "images_path = os.path.join(origa_path, \"Images_Square\")\n",
    "masks_path = os.path.join(origa_path, \"Masks_Square\")\n",
    "\n",
    "img_filenames = sorted(os.listdir(images_path))\n",
    "mask_filenames = sorted(os.listdir(masks_path))"
   ]
  },
  {
   "cell_type": "code",
   "execution_count": 4,
   "metadata": {},
   "outputs": [],
   "source": [
    "# Split into train, validation, and test sets (70, 15, 15)\n",
    "train_imgs, temp_imgs, train_masks, temp_masks = train_test_split(\n",
    "    img_filenames, mask_filenames, test_size=0.3, random_state=42)\n",
    "\n",
    "val_imgs, test_imgs, val_masks, test_masks = train_test_split(\n",
    "    temp_imgs, temp_masks, test_size=0.5, random_state=42)"
   ]
  },
  {
   "cell_type": "code",
   "execution_count": 5,
   "metadata": {},
   "outputs": [],
   "source": [
    "# Set parameters (learning rate, batch size, epochs, etc.)\n",
    "lr = 1e-4\n",
    "batch_size = 8\n",
    "n_workers = 4\n",
    "epochs = 40"
   ]
  },
  {
   "cell_type": "code",
   "execution_count": 6,
   "metadata": {},
   "outputs": [],
   "source": [
    "# Load data\n",
    "train_set = GlaucomaDataset(images_path, masks_path, train_imgs, train_masks)\n",
    "val_set = GlaucomaDataset(images_path, masks_path, val_imgs, val_masks)\n",
    "test_set = GlaucomaDataset(images_path, masks_path, test_imgs, test_masks)\n",
    "\n",
    "train_loader = DataLoader(train_set, batch_size=batch_size, num_workers=n_workers, shuffle=True)\n",
    "val_loader = DataLoader(val_set, batch_size=batch_size, num_workers=n_workers, shuffle=True)\n",
    "test_loader = DataLoader(test_set, batch_size=batch_size, num_workers=n_workers, shuffle=True) # need to load test?"
   ]
  },
  {
   "cell_type": "code",
   "execution_count": 7,
   "metadata": {},
   "outputs": [],
   "source": [
    "# Define metrics (dice coefficient)\n",
    "def dice_coefficient(targets, preds, smooth=1e-6):\n",
    "    # preds = (preds > 0.5).float \n",
    "    intersection = torch.sum(preds * targets, dim=(2,3))\n",
    "    # want close to 1 (identical)\n",
    "    dice = (2. * intersection + smooth) / (torch.sum(preds, dim=(2,3)) + torch.sum(targets, dim=(2,3)) + smooth)\n",
    "    return dice.mean()"
   ]
  },
  {
   "cell_type": "code",
   "execution_count": 8,
   "metadata": {},
   "outputs": [],
   "source": [
    "# Initialize model (device, model, loss, optimizer)\n",
    "device = torch.device(\"cuda\" if torch.cuda.is_available() else \"cpu\")\n",
    "model = UNet(in_channels=1).to(device)\n",
    "loss_func = torch.nn.BCELoss(reduction='mean')\n",
    "optimizer = Adam(model.parameters(), lr=lr)"
   ]
  },
  {
   "cell_type": "code",
   "execution_count": 9,
   "metadata": {},
   "outputs": [
    {
     "name": "stdout",
     "output_type": "stream",
     "text": [
      "torch.Size([8, 1, 256, 256])\n",
      "torch.Size([8, 2, 256, 256])\n"
     ]
    }
   ],
   "source": [
    "for images, masks in train_loader:\n",
    "    print(images.shape)\n",
    "    print(masks.shape)\n",
    "    break"
   ]
  },
  {
   "cell_type": "code",
   "execution_count": 10,
   "metadata": {},
   "outputs": [
    {
     "data": {
      "text/plain": [
       "8"
      ]
     },
     "execution_count": 10,
     "metadata": {},
     "output_type": "execute_result"
    }
   ],
   "source": [
    "len(images)"
   ]
  },
  {
   "cell_type": "code",
   "execution_count": null,
   "metadata": {},
   "outputs": [
    {
     "name": "stdout",
     "output_type": "stream",
     "text": [
      "torch.Size([8, 2, 256, 256])\n",
      "torch.Size([8, 2, 256, 256])\n",
      "torch.Size([8, 2, 256, 256])\n",
      "torch.Size([8, 2, 256, 256])\n",
      "torch.Size([8, 2, 256, 256])\n",
      "torch.Size([8, 2, 256, 256])\n",
      "torch.Size([8, 2, 256, 256])\n",
      "torch.Size([8, 2, 256, 256])\n",
      "torch.Size([8, 2, 256, 256])\n",
      "torch.Size([8, 2, 256, 256])\n",
      "torch.Size([8, 2, 256, 256])\n",
      "torch.Size([8, 2, 256, 256])\n",
      "torch.Size([8, 2, 256, 256])\n",
      "torch.Size([8, 2, 256, 256])\n",
      "torch.Size([8, 2, 256, 256])\n",
      "torch.Size([8, 2, 256, 256])\n",
      "torch.Size([8, 2, 256, 256])\n",
      "torch.Size([8, 2, 256, 256])\n",
      "torch.Size([8, 2, 256, 256])\n",
      "torch.Size([8, 2, 256, 256])\n",
      "torch.Size([8, 2, 256, 256])\n",
      "torch.Size([8, 2, 256, 256])\n",
      "torch.Size([8, 2, 256, 256])\n",
      "torch.Size([8, 2, 256, 256])\n",
      "torch.Size([8, 2, 256, 256])\n",
      "torch.Size([8, 2, 256, 256])\n",
      "torch.Size([8, 2, 256, 256])\n",
      "torch.Size([8, 2, 256, 256])\n",
      "torch.Size([8, 2, 256, 256])\n",
      "torch.Size([8, 2, 256, 256])\n",
      "torch.Size([8, 2, 256, 256])\n",
      "torch.Size([8, 2, 256, 256])\n",
      "torch.Size([8, 2, 256, 256])\n",
      "torch.Size([8, 2, 256, 256])\n",
      "torch.Size([8, 2, 256, 256])\n",
      "torch.Size([8, 2, 256, 256])\n",
      "torch.Size([8, 2, 256, 256])\n",
      "torch.Size([8, 2, 256, 256])\n",
      "torch.Size([8, 2, 256, 256])\n",
      "torch.Size([8, 2, 256, 256])\n"
     ]
    }
   ],
   "source": [
    "# TODO: Train model \n",
    "train_losses = []\n",
    "dice_scores = []\n",
    "model.train()\n",
    "\n",
    "# for epoch in epochs:\n",
    "train_loss = 0.\n",
    "dice = 0.\n",
    "\n",
    "for images, masks in train_loader:\n",
    "    images, masks = images.to(device), masks.to(device)\n",
    "\n",
    "    optimizer.zero_grad()\n",
    "    output = model(images)\n",
    "    print(output.shape)\n",
    "    loss = loss_func(output, masks)\n",
    "    loss.backward()\n",
    "    optimizer.step()\n",
    "\n",
    "    train_loss += loss.item()\n",
    "    dice += dice_coefficient(output, masks).item()\n",
    "\n",
    "train_loss /= len(train_loader)\n",
    "dice /= len(train_loader)\n",
    "print(\"train loss\", train_loss)\n",
    "print(\"dice score\", dice)"
   ]
  },
  {
   "cell_type": "code",
   "execution_count": null,
   "metadata": {},
   "outputs": [],
   "source": [
    "# To consider: adding grayscale / normalization (either for images or batches), adding a remove nerves function\n",
    "# Implement early stopping?"
   ]
  },
  {
   "cell_type": "code",
   "execution_count": null,
   "metadata": {},
   "outputs": [],
   "source": [
    "# TODO: Tune model (cv for lr, epochs, batch size, etc.)"
   ]
  }
 ],
 "metadata": {
  "kernelspec": {
   "display_name": "base",
   "language": "python",
   "name": "python3"
  },
  "language_info": {
   "codemirror_mode": {
    "name": "ipython",
    "version": 3
   },
   "file_extension": ".py",
   "mimetype": "text/x-python",
   "name": "python",
   "nbconvert_exporter": "python",
   "pygments_lexer": "ipython3",
   "version": "3.11.7"
  }
 },
 "nbformat": 4,
 "nbformat_minor": 2
}
